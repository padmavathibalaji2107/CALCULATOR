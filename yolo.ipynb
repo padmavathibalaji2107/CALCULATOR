{
  "nbformat": 4,
  "nbformat_minor": 0,
  "metadata": {
    "colab": {
      "provenance": [],
      "include_colab_link": true
    },
    "kernelspec": {
      "name": "python3",
      "display_name": "Python 3"
    },
    "language_info": {
      "name": "python"
    },
    "accelerator": "GPU",
    "gpuClass": "standard"
  },
  "cells": [
    {
      "cell_type": "markdown",
      "metadata": {
        "id": "view-in-github",
        "colab_type": "text"
      },
      "source": [
        "<a href=\"https://colab.research.google.com/github/padmavathibalaji2107/CALCULATOR/blob/main/yolo.ipynb\" target=\"_parent\"><img src=\"https://colab.research.google.com/assets/colab-badge.svg\" alt=\"Open In Colab\"/></a>"
      ]
    },
    {
      "cell_type": "code",
      "execution_count": 1,
      "metadata": {
        "colab": {
          "base_uri": "https://localhost:8080/"
        },
        "id": "AXY17OrTS-lP",
        "outputId": "d9f6d6b1-7aeb-4324-a918-6cb4a9075049"
      },
      "outputs": [
        {
          "output_type": "stream",
          "name": "stdout",
          "text": [
            "Wed Oct 23 15:07:19 2024       \n",
            "+---------------------------------------------------------------------------------------+\n",
            "| NVIDIA-SMI 535.104.05             Driver Version: 535.104.05   CUDA Version: 12.2     |\n",
            "|-----------------------------------------+----------------------+----------------------+\n",
            "| GPU  Name                 Persistence-M | Bus-Id        Disp.A | Volatile Uncorr. ECC |\n",
            "| Fan  Temp   Perf          Pwr:Usage/Cap |         Memory-Usage | GPU-Util  Compute M. |\n",
            "|                                         |                      |               MIG M. |\n",
            "|=========================================+======================+======================|\n",
            "|   0  Tesla T4                       Off | 00000000:00:04.0 Off |                    0 |\n",
            "| N/A   49C    P8              10W /  70W |      0MiB / 15360MiB |      0%      Default |\n",
            "|                                         |                      |                  N/A |\n",
            "+-----------------------------------------+----------------------+----------------------+\n",
            "                                                                                         \n",
            "+---------------------------------------------------------------------------------------+\n",
            "| Processes:                                                                            |\n",
            "|  GPU   GI   CI        PID   Type   Process name                            GPU Memory |\n",
            "|        ID   ID                                                             Usage      |\n",
            "|=======================================================================================|\n",
            "|  No running processes found                                                           |\n",
            "+---------------------------------------------------------------------------------------+\n"
          ]
        }
      ],
      "source": [
        "!nvidia-smi\n"
      ]
    },
    {
      "cell_type": "code",
      "source": [
        "!pip install ultralytics==8.0.20\n",
        "\n",
        "from IPython import display\n",
        "display.clear_output()\n",
        "\n",
        "import ultralytics\n",
        "ultralytics.checks()"
      ],
      "metadata": {
        "colab": {
          "base_uri": "https://localhost:8080/"
        },
        "id": "PQ6RkiuB8rvS",
        "outputId": "085d8dd4-d865-4832-84bb-f272fac4b6fb"
      },
      "execution_count": null,
      "outputs": [
        {
          "output_type": "stream",
          "name": "stderr",
          "text": [
            "Ultralytics YOLOv8.0.20 🚀 Python-3.9.16 torch-2.0.0+cu118 CUDA:0 (Tesla T4, 15102MiB)\n",
            "Setup complete ✅ (2 CPUs, 12.7 GB RAM, 23.3/78.2 GB disk)\n"
          ]
        }
      ]
    },
    {
      "cell_type": "code",
      "source": [
        "from ultralytics import YOLO\n",
        "\n",
        "from IPython.display import display, Image"
      ],
      "metadata": {
        "id": "BbzJv2ye81Ov",
        "outputId": "00a36840-55ad-42ce-9b01-b0534917c300",
        "colab": {
          "base_uri": "https://localhost:8080/"
        }
      },
      "execution_count": 5,
      "outputs": [
        {
          "output_type": "stream",
          "name": "stdout",
          "text": [
            "Creating new Ultralytics Settings v0.0.6 file ✅ \n",
            "View Ultralytics Settings with 'yolo settings' or at '/root/.config/Ultralytics/settings.json'\n",
            "Update Settings with 'yolo settings key=value', i.e. 'yolo settings runs_dir=path/to/dir'. For help see https://docs.ultralytics.com/quickstart/#ultralytics-settings.\n"
          ]
        }
      ]
    },
    {
      "cell_type": "code",
      "source": [
        "pip install ultralytics"
      ],
      "metadata": {
        "id": "bKfCaW_u7O-v",
        "outputId": "fce703eb-fc9c-439f-91ef-5e0ed6a56526",
        "colab": {
          "base_uri": "https://localhost:8080/"
        }
      },
      "execution_count": 4,
      "outputs": [
        {
          "output_type": "stream",
          "name": "stdout",
          "text": [
            "Collecting ultralytics\n",
            "  Downloading ultralytics-8.3.20-py3-none-any.whl.metadata (34 kB)\n",
            "Requirement already satisfied: numpy>=1.23.0 in /usr/local/lib/python3.10/dist-packages (from ultralytics) (1.26.4)\n",
            "Requirement already satisfied: matplotlib>=3.3.0 in /usr/local/lib/python3.10/dist-packages (from ultralytics) (3.7.1)\n",
            "Requirement already satisfied: opencv-python>=4.6.0 in /usr/local/lib/python3.10/dist-packages (from ultralytics) (4.10.0.84)\n",
            "Requirement already satisfied: pillow>=7.1.2 in /usr/local/lib/python3.10/dist-packages (from ultralytics) (10.4.0)\n",
            "Requirement already satisfied: pyyaml>=5.3.1 in /usr/local/lib/python3.10/dist-packages (from ultralytics) (6.0.2)\n",
            "Requirement already satisfied: requests>=2.23.0 in /usr/local/lib/python3.10/dist-packages (from ultralytics) (2.32.3)\n",
            "Requirement already satisfied: scipy>=1.4.1 in /usr/local/lib/python3.10/dist-packages (from ultralytics) (1.13.1)\n",
            "Requirement already satisfied: torch>=1.8.0 in /usr/local/lib/python3.10/dist-packages (from ultralytics) (2.4.1+cu121)\n",
            "Requirement already satisfied: torchvision>=0.9.0 in /usr/local/lib/python3.10/dist-packages (from ultralytics) (0.19.1+cu121)\n",
            "Requirement already satisfied: tqdm>=4.64.0 in /usr/local/lib/python3.10/dist-packages (from ultralytics) (4.66.5)\n",
            "Requirement already satisfied: psutil in /usr/local/lib/python3.10/dist-packages (from ultralytics) (5.9.5)\n",
            "Requirement already satisfied: py-cpuinfo in /usr/local/lib/python3.10/dist-packages (from ultralytics) (9.0.0)\n",
            "Requirement already satisfied: pandas>=1.1.4 in /usr/local/lib/python3.10/dist-packages (from ultralytics) (2.2.2)\n",
            "Requirement already satisfied: seaborn>=0.11.0 in /usr/local/lib/python3.10/dist-packages (from ultralytics) (0.13.2)\n",
            "Collecting ultralytics-thop>=2.0.0 (from ultralytics)\n",
            "  Downloading ultralytics_thop-2.0.9-py3-none-any.whl.metadata (9.3 kB)\n",
            "Requirement already satisfied: contourpy>=1.0.1 in /usr/local/lib/python3.10/dist-packages (from matplotlib>=3.3.0->ultralytics) (1.3.0)\n",
            "Requirement already satisfied: cycler>=0.10 in /usr/local/lib/python3.10/dist-packages (from matplotlib>=3.3.0->ultralytics) (0.12.1)\n",
            "Requirement already satisfied: fonttools>=4.22.0 in /usr/local/lib/python3.10/dist-packages (from matplotlib>=3.3.0->ultralytics) (4.54.1)\n",
            "Requirement already satisfied: kiwisolver>=1.0.1 in /usr/local/lib/python3.10/dist-packages (from matplotlib>=3.3.0->ultralytics) (1.4.7)\n",
            "Requirement already satisfied: packaging>=20.0 in /usr/local/lib/python3.10/dist-packages (from matplotlib>=3.3.0->ultralytics) (24.1)\n",
            "Requirement already satisfied: pyparsing>=2.3.1 in /usr/local/lib/python3.10/dist-packages (from matplotlib>=3.3.0->ultralytics) (3.2.0)\n",
            "Requirement already satisfied: python-dateutil>=2.7 in /usr/local/lib/python3.10/dist-packages (from matplotlib>=3.3.0->ultralytics) (2.8.2)\n",
            "Requirement already satisfied: pytz>=2020.1 in /usr/local/lib/python3.10/dist-packages (from pandas>=1.1.4->ultralytics) (2024.2)\n",
            "Requirement already satisfied: tzdata>=2022.7 in /usr/local/lib/python3.10/dist-packages (from pandas>=1.1.4->ultralytics) (2024.2)\n",
            "Requirement already satisfied: charset-normalizer<4,>=2 in /usr/local/lib/python3.10/dist-packages (from requests>=2.23.0->ultralytics) (3.4.0)\n",
            "Requirement already satisfied: idna<4,>=2.5 in /usr/local/lib/python3.10/dist-packages (from requests>=2.23.0->ultralytics) (3.10)\n",
            "Requirement already satisfied: urllib3<3,>=1.21.1 in /usr/local/lib/python3.10/dist-packages (from requests>=2.23.0->ultralytics) (2.2.3)\n",
            "Requirement already satisfied: certifi>=2017.4.17 in /usr/local/lib/python3.10/dist-packages (from requests>=2.23.0->ultralytics) (2024.8.30)\n",
            "Requirement already satisfied: filelock in /usr/local/lib/python3.10/dist-packages (from torch>=1.8.0->ultralytics) (3.16.1)\n",
            "Requirement already satisfied: typing-extensions>=4.8.0 in /usr/local/lib/python3.10/dist-packages (from torch>=1.8.0->ultralytics) (4.12.2)\n",
            "Requirement already satisfied: sympy in /usr/local/lib/python3.10/dist-packages (from torch>=1.8.0->ultralytics) (1.13.3)\n",
            "Requirement already satisfied: networkx in /usr/local/lib/python3.10/dist-packages (from torch>=1.8.0->ultralytics) (3.4.1)\n",
            "Requirement already satisfied: jinja2 in /usr/local/lib/python3.10/dist-packages (from torch>=1.8.0->ultralytics) (3.1.4)\n",
            "Requirement already satisfied: fsspec in /usr/local/lib/python3.10/dist-packages (from torch>=1.8.0->ultralytics) (2024.6.1)\n",
            "Requirement already satisfied: six>=1.5 in /usr/local/lib/python3.10/dist-packages (from python-dateutil>=2.7->matplotlib>=3.3.0->ultralytics) (1.16.0)\n",
            "Requirement already satisfied: MarkupSafe>=2.0 in /usr/local/lib/python3.10/dist-packages (from jinja2->torch>=1.8.0->ultralytics) (3.0.2)\n",
            "Requirement already satisfied: mpmath<1.4,>=1.1.0 in /usr/local/lib/python3.10/dist-packages (from sympy->torch>=1.8.0->ultralytics) (1.3.0)\n",
            "Downloading ultralytics-8.3.20-py3-none-any.whl (876 kB)\n",
            "\u001b[2K   \u001b[90m━━━━━━━━━━━━━━━━━━━━━━━━━━━━━━━━━━━━━━━━\u001b[0m \u001b[32m876.6/876.6 kB\u001b[0m \u001b[31m35.5 MB/s\u001b[0m eta \u001b[36m0:00:00\u001b[0m\n",
            "\u001b[?25hDownloading ultralytics_thop-2.0.9-py3-none-any.whl (26 kB)\n",
            "Installing collected packages: ultralytics-thop, ultralytics\n",
            "Successfully installed ultralytics-8.3.20 ultralytics-thop-2.0.9\n"
          ]
        }
      ]
    },
    {
      "cell_type": "code",
      "source": [
        "from google.colab import drive\n",
        "drive.mount('/content/drive')"
      ],
      "metadata": {
        "colab": {
          "base_uri": "https://localhost:8080/"
        },
        "id": "S36_rNInDWSn",
        "outputId": "5ce6985b-3e5e-4554-998f-a90d8ab51b5e"
      },
      "execution_count": 2,
      "outputs": [
        {
          "output_type": "stream",
          "name": "stdout",
          "text": [
            "Mounted at /content/drive\n"
          ]
        }
      ]
    },
    {
      "cell_type": "code",
      "source": [
        "ls\n"
      ],
      "metadata": {
        "colab": {
          "base_uri": "https://localhost:8080/"
        },
        "id": "RsuzB39AEHpQ",
        "outputId": "db9e4cb8-405a-4453-df42-98f0f53d5d76"
      },
      "execution_count": 6,
      "outputs": [
        {
          "output_type": "stream",
          "name": "stdout",
          "text": [
            "\u001b[0m\u001b[01;34mdrive\u001b[0m/  \u001b[01;34msample_data\u001b[0m/\n"
          ]
        }
      ]
    },
    {
      "cell_type": "code",
      "source": [
        "%cd /content/drive/MyDrive/Accident Detection model\n",
        "\n",
        "!yolo task=detect mode=train model=yolov8s.pt data= data.yaml epochs=1 imgsz=640 plots=True"
      ],
      "metadata": {
        "colab": {
          "base_uri": "https://localhost:8080/"
        },
        "id": "onGbGuMvMMVz",
        "outputId": "872aa2a2-64f6-46b3-81b0-fb786f87f1cd"
      },
      "execution_count": 7,
      "outputs": [
        {
          "output_type": "stream",
          "name": "stdout",
          "text": [
            "[Errno 2] No such file or directory: '/content/drive/MyDrive/Accident Detection model'\n",
            "/content\n",
            "Downloading https://github.com/ultralytics/assets/releases/download/v8.3.0/yolov8s.pt to 'yolov8s.pt'...\n",
            "100% 21.5M/21.5M [00:00<00:00, 98.4MB/s]\n",
            "Ultralytics 8.3.20 🚀 Python-3.10.12 torch-2.4.1+cu121 CUDA:0 (Tesla T4, 15102MiB)\n",
            "\u001b[34m\u001b[1mengine/trainer: \u001b[0mtask=detect, mode=train, model=yolov8s.pt, data=data.yaml, epochs=1, time=None, patience=100, batch=16, imgsz=640, save=True, save_period=-1, cache=False, device=None, workers=8, project=None, name=train, exist_ok=False, pretrained=True, optimizer=auto, verbose=True, seed=0, deterministic=True, single_cls=False, rect=False, cos_lr=False, close_mosaic=10, resume=False, amp=True, fraction=1.0, profile=False, freeze=None, multi_scale=False, overlap_mask=True, mask_ratio=4, dropout=0.0, val=True, split=val, save_json=False, save_hybrid=False, conf=None, iou=0.7, max_det=300, half=False, dnn=False, plots=True, source=None, vid_stride=1, stream_buffer=False, visualize=False, augment=False, agnostic_nms=False, classes=None, retina_masks=False, embed=None, show=False, save_frames=False, save_txt=False, save_conf=False, save_crop=False, show_labels=True, show_conf=True, show_boxes=True, line_width=None, format=torchscript, keras=False, optimize=False, int8=False, dynamic=False, simplify=True, opset=None, workspace=4, nms=False, lr0=0.01, lrf=0.01, momentum=0.937, weight_decay=0.0005, warmup_epochs=3.0, warmup_momentum=0.8, warmup_bias_lr=0.1, box=7.5, cls=0.5, dfl=1.5, pose=12.0, kobj=1.0, label_smoothing=0.0, nbs=64, hsv_h=0.015, hsv_s=0.7, hsv_v=0.4, degrees=0.0, translate=0.1, scale=0.5, shear=0.0, perspective=0.0, flipud=0.0, fliplr=0.5, bgr=0.0, mosaic=1.0, mixup=0.0, copy_paste=0.0, copy_paste_mode=flip, auto_augment=randaugment, erasing=0.4, crop_fraction=1.0, cfg=None, tracker=botsort.yaml, save_dir=runs/detect/train\n",
            "Traceback (most recent call last):\n",
            "  File \"/usr/local/lib/python3.10/dist-packages/ultralytics/engine/trainer.py\", line 557, in get_dataset\n",
            "    data = check_det_dataset(self.args.data)\n",
            "  File \"/usr/local/lib/python3.10/dist-packages/ultralytics/data/utils.py\", line 269, in check_det_dataset\n",
            "    file = check_file(dataset)\n",
            "  File \"/usr/local/lib/python3.10/dist-packages/ultralytics/utils/checks.py\", line 521, in check_file\n",
            "    raise FileNotFoundError(f\"'{file}' does not exist\")\n",
            "FileNotFoundError: 'data.yaml' does not exist\n",
            "\n",
            "The above exception was the direct cause of the following exception:\n",
            "\n",
            "Traceback (most recent call last):\n",
            "  File \"/usr/local/bin/yolo\", line 8, in <module>\n",
            "    sys.exit(entrypoint())\n",
            "  File \"/usr/local/lib/python3.10/dist-packages/ultralytics/cfg/__init__.py\", line 824, in entrypoint\n",
            "    getattr(model, mode)(**overrides)  # default args from model\n",
            "  File \"/usr/local/lib/python3.10/dist-packages/ultralytics/engine/model.py\", line 796, in train\n",
            "    self.trainer = (trainer or self._smart_load(\"trainer\"))(overrides=args, _callbacks=self.callbacks)\n",
            "  File \"/usr/local/lib/python3.10/dist-packages/ultralytics/engine/trainer.py\", line 133, in __init__\n",
            "    self.trainset, self.testset = self.get_dataset()\n",
            "  File \"/usr/local/lib/python3.10/dist-packages/ultralytics/engine/trainer.py\", line 561, in get_dataset\n",
            "    raise RuntimeError(emojis(f\"Dataset '{clean_url(self.args.data)}' error ❌ {e}\")) from e\n",
            "RuntimeError: Dataset 'data.yaml' error ❌ 'data.yaml' does not exist\n"
          ]
        }
      ]
    },
    {
      "cell_type": "code",
      "source": [
        "!yolo task=detect mode=val model=runs/detect/train/weights/best.pt data=data.yaml"
      ],
      "metadata": {
        "colab": {
          "base_uri": "https://localhost:8080/"
        },
        "id": "Q1Bp-ldxFaLf",
        "outputId": "07235617-0b07-48a0-c1a1-04864c575468"
      },
      "execution_count": 8,
      "outputs": [
        {
          "output_type": "stream",
          "name": "stdout",
          "text": [
            "Traceback (most recent call last):\n",
            "  File \"/usr/local/bin/yolo\", line 8, in <module>\n",
            "    sys.exit(entrypoint())\n",
            "  File \"/usr/local/lib/python3.10/dist-packages/ultralytics/cfg/__init__.py\", line 797, in entrypoint\n",
            "    model = YOLO(model, task=task)\n",
            "  File \"/usr/local/lib/python3.10/dist-packages/ultralytics/models/yolo/model.py\", line 23, in __init__\n",
            "    super().__init__(model=model, task=task, verbose=verbose)\n",
            "  File \"/usr/local/lib/python3.10/dist-packages/ultralytics/engine/model.py\", line 145, in __init__\n",
            "    self._load(model, task=task)\n",
            "  File \"/usr/local/lib/python3.10/dist-packages/ultralytics/engine/model.py\", line 285, in _load\n",
            "    self.model, self.ckpt = attempt_load_one_weight(weights)\n",
            "  File \"/usr/local/lib/python3.10/dist-packages/ultralytics/nn/tasks.py\", line 910, in attempt_load_one_weight\n",
            "    ckpt, weight = torch_safe_load(weight)  # load ckpt\n",
            "  File \"/usr/local/lib/python3.10/dist-packages/ultralytics/nn/tasks.py\", line 837, in torch_safe_load\n",
            "    ckpt = torch.load(file, map_location=\"cpu\")\n",
            "  File \"/usr/local/lib/python3.10/dist-packages/ultralytics/utils/patches.py\", line 86, in torch_load\n",
            "    return _torch_load(*args, **kwargs)\n",
            "  File \"/usr/local/lib/python3.10/dist-packages/torch/serialization.py\", line 1065, in load\n",
            "    with _open_file_like(f, 'rb') as opened_file:\n",
            "  File \"/usr/local/lib/python3.10/dist-packages/torch/serialization.py\", line 468, in _open_file_like\n",
            "    return _open_file(name_or_buffer, mode)\n",
            "  File \"/usr/local/lib/python3.10/dist-packages/torch/serialization.py\", line 449, in __init__\n",
            "    super().__init__(open(name, mode))\n",
            "FileNotFoundError: [Errno 2] No such file or directory: 'runs/detect/train/weights/best.pt'\n"
          ]
        }
      ]
    },
    {
      "cell_type": "code",
      "source": [
        "!yolo task=detect mode=predict model=runs/detect/train/weights/best.pt conf=0.25 source=data/test/images"
      ],
      "metadata": {
        "colab": {
          "base_uri": "https://localhost:8080/"
        },
        "id": "2GyRu-6NJRPU",
        "outputId": "1be25396-fc64-4753-d3a8-40c42d7aa60c"
      },
      "execution_count": null,
      "outputs": [
        {
          "output_type": "stream",
          "name": "stdout",
          "text": [
            "2023-04-20 17:58:29.829297: I tensorflow/core/platform/cpu_feature_guard.cc:182] This TensorFlow binary is optimized to use available CPU instructions in performance-critical operations.\n",
            "To enable the following instructions: AVX2 AVX512F FMA, in other operations, rebuild TensorFlow with the appropriate compiler flags.\n",
            "2023-04-20 17:58:30.725857: W tensorflow/compiler/tf2tensorrt/utils/py_utils.cc:38] TF-TRT Warning: Could not find TensorRT\n",
            "Ultralytics YOLOv8.0.20 🚀 Python-3.9.16 torch-2.0.0+cu118 CUDA:0 (Tesla T4, 15102MiB)\n",
            "Model summary (fused): 168 layers, 11125971 parameters, 0 gradients, 28.4 GFLOPs\n",
            "image 1/157 /content/drive/MyDrive/Accident Detection model/data/test/images/5_17_jpg.rf.0611b10e50517e4323c47fc36301167c.jpg: 640x640 16.3ms\n",
            "image 2/157 /content/drive/MyDrive/Accident Detection model/data/test/images/5_22_jpg.rf.368e2a41bf84be83076f603939cbd052.jpg: 640x640 16.4ms\n",
            "image 3/157 /content/drive/MyDrive/Accident Detection model/data/test/images/5_28_jpg.rf.3eabd78da3af251b71e0089ac63f9c88.jpg: 640x640 16.3ms\n",
            "image 4/157 /content/drive/MyDrive/Accident Detection model/data/test/images/ezgif-frame-007_jpg.rf.ceac019216ee1df6dffdd54ec8e49012.jpg: 640x640 16.3ms\n",
            "image 5/157 /content/drive/MyDrive/Accident Detection model/data/test/images/ezgif-frame-016_jpg.rf.ca0bcea30501ae4af64fee661b1dc9e1.jpg: 640x640 16.3ms\n",
            "image 6/157 /content/drive/MyDrive/Accident Detection model/data/test/images/ezgif-frame-018_jpg.rf.96792c8e8aa1ee53027f36af9352e0e3.jpg: 640x640 16.2ms\n",
            "image 7/157 /content/drive/MyDrive/Accident Detection model/data/test/images/ezgif-frame-020_jpg.rf.eabd8827fc2260e9c05bf55c80e1e13a.jpg: 640x640 16.5ms\n",
            "image 8/157 /content/drive/MyDrive/Accident Detection model/data/test/images/ezgif-frame-024_jpg.rf.c1da323772d5b4dbaae840ede6ede10f.jpg: 640x640 16.3ms\n",
            "image 9/157 /content/drive/MyDrive/Accident Detection model/data/test/images/ezgif-frame-024_jpg.rf.d5ce065fc385ec4d85531516df55ad4d.jpg: 640x640 16.3ms\n",
            "image 10/157 /content/drive/MyDrive/Accident Detection model/data/test/images/ezgif-frame-035_jpg.rf.e287c6b9e77c1c89d64748e6bab9a4c9.jpg: 640x640 16.3ms\n",
            "image 11/157 /content/drive/MyDrive/Accident Detection model/data/test/images/ezgif-frame-044_jpg.rf.6de16d60931c4fd0294ec0113635c3f6.jpg: 640x640 1 Accident, 16.3ms\n",
            "image 12/157 /content/drive/MyDrive/Accident Detection model/data/test/images/ezgif-frame-046_jpg.rf.58bafed15631d50fc538d4aac47211d8.jpg: 640x640 1 Accident, 13.7ms\n",
            "image 13/157 /content/drive/MyDrive/Accident Detection model/data/test/images/ezgif-frame-047_jpg.rf.aa137abf5ade5c0f70d83a46c0f8879d.jpg: 640x640 1 Accident, 13.7ms\n",
            "image 14/157 /content/drive/MyDrive/Accident Detection model/data/test/images/ezgif-frame-052_jpg.rf.90449e7817c3c3279974375779e138c5.jpg: 640x640 1 Accident, 13.6ms\n",
            "image 15/157 /content/drive/MyDrive/Accident Detection model/data/test/images/ezgif-frame-066_jpg.rf.fdb8946d733e61a9a3d3844ec7e6c53b.jpg: 640x640 2 Accidents, 13.7ms\n",
            "image 16/157 /content/drive/MyDrive/Accident Detection model/data/test/images/ezgif-frame-070_jpg.rf.4a86f52c6e8115022429b72eb85f2e23.jpg: 640x640 1 Accident, 13.6ms\n",
            "image 17/157 /content/drive/MyDrive/Accident Detection model/data/test/images/ezgif-frame-084_jpg.rf.5baef21b0727b12e875ab4eabec219de.jpg: 640x640 13.6ms\n",
            "image 18/157 /content/drive/MyDrive/Accident Detection model/data/test/images/ezgif-frame-084_jpg.rf.9135182ded36f2ee16fb64e99db8b5ab.jpg: 640x640 1 Accident, 13.6ms\n",
            "image 19/157 /content/drive/MyDrive/Accident Detection model/data/test/images/ezgif-frame-086_jpg.rf.15736ae6f748ca1a3bdaacdfe2f3224e.jpg: 640x640 1 Accident, 13.6ms\n",
            "image 20/157 /content/drive/MyDrive/Accident Detection model/data/test/images/ezgif-frame-087_jpg.rf.1b6dbb7410ebd5329288c8da6ae74d5f.jpg: 640x640 1 Accident, 13.7ms\n",
            "image 21/157 /content/drive/MyDrive/Accident Detection model/data/test/images/ezgif-frame-096_jpg.rf.83c355ce478ea1a4cddf606881bd536c.jpg: 640x640 1 Accident, 13.7ms\n",
            "image 22/157 /content/drive/MyDrive/Accident Detection model/data/test/images/ezgif-frame-099_jpg.rf.1bff8ced2b645d196a6b950db3aa86c2.jpg: 640x640 13.7ms\n",
            "image 23/157 /content/drive/MyDrive/Accident Detection model/data/test/images/ezgif-frame-101_jpg.rf.f5f84170ba7501e2f36ac58404830ff6.jpg: 640x640 1 Accident, 13.6ms\n",
            "image 24/157 /content/drive/MyDrive/Accident Detection model/data/test/images/ezgif-frame-102_jpg.rf.bd94d49f8b053fa9a4fc7cec5084665a.jpg: 640x640 13.6ms\n",
            "image 25/157 /content/drive/MyDrive/Accident Detection model/data/test/images/ezgif-frame-108_jpg.rf.a5e9e16365b510ede705819912a32ca6.jpg: 640x640 1 Accident, 13.6ms\n",
            "image 26/157 /content/drive/MyDrive/Accident Detection model/data/test/images/ezgif-frame-109_jpg.rf.9d636970b0861cc753c8de74030a380d.jpg: 640x640 9.9ms\n",
            "image 27/157 /content/drive/MyDrive/Accident Detection model/data/test/images/ezgif-frame-118_jpg.rf.8dc58b1e6853b264c09562b528e37f0a.jpg: 640x640 9.9ms\n",
            "image 28/157 /content/drive/MyDrive/Accident Detection model/data/test/images/ezgif-frame-121_jpg.rf.2cccfbc23dffc041fa630a02d791b312.jpg: 640x640 1 Accident, 9.7ms\n",
            "image 29/157 /content/drive/MyDrive/Accident Detection model/data/test/images/ezgif-frame-123_jpg.rf.6843434ac938ee7a1ecdf0613edcffd0.jpg: 640x640 1 Accident, 9.7ms\n",
            "image 30/157 /content/drive/MyDrive/Accident Detection model/data/test/images/ezgif-frame-125_jpg.rf.081d0164d700469c4e2d6ae37c11a1f1.jpg: 640x640 1 Accident, 9.7ms\n",
            "image 31/157 /content/drive/MyDrive/Accident Detection model/data/test/images/ezgif-frame-129_jpg.rf.e9144a8c138926050204562e1d2a6616.jpg: 640x640 1 Accident, 9.7ms\n",
            "image 32/157 /content/drive/MyDrive/Accident Detection model/data/test/images/ezgif-frame-143_jpg.rf.4e97bbd59dc804cddc26a199bfb0f9eb.jpg: 640x640 2 Accidents, 9.6ms\n",
            "image 33/157 /content/drive/MyDrive/Accident Detection model/data/test/images/ezgif-frame-144_jpg.rf.fdb159b50dbd2bcee0c1a0b6b1498914.jpg: 640x640 2 Accidents, 9.6ms\n",
            "image 34/157 /content/drive/MyDrive/Accident Detection model/data/test/images/ezgif-frame-145_jpg.rf.ae8769713755ad843a51a60f8654e0ce.jpg: 640x640 2 Accidents, 9.7ms\n",
            "image 35/157 /content/drive/MyDrive/Accident Detection model/data/test/images/test10_1_jpg.rf.96a4a2cde3c72175944dcdae8f2ed78f.jpg: 640x640 9.7ms\n",
            "image 36/157 /content/drive/MyDrive/Accident Detection model/data/test/images/test10_2_jpg.rf.e6b2b5735642abc4e4d54997065cdb3b.jpg: 640x640 9.6ms\n",
            "image 37/157 /content/drive/MyDrive/Accident Detection model/data/test/images/test10_3_jpg.rf.2695089cd3a6d918d097c85cdd6e9c10.jpg: 640x640 9.7ms\n",
            "image 38/157 /content/drive/MyDrive/Accident Detection model/data/test/images/test10_4_jpg.rf.cd4460a6908564e0e18150e933a24f5e.jpg: 640x640 9.7ms\n",
            "image 39/157 /content/drive/MyDrive/Accident Detection model/data/test/images/test10_5_jpg.rf.dd8178d86004c025b37aceb565371129.jpg: 640x640 9.6ms\n",
            "image 40/157 /content/drive/MyDrive/Accident Detection model/data/test/images/test10_6_jpg.rf.4bc4e0650ad0ed18c5fc9a6fd877cc79.jpg: 640x640 8.8ms\n",
            "image 41/157 /content/drive/MyDrive/Accident Detection model/data/test/images/test10_7_jpg.rf.68a0e460d7500c35e8f2a7f23e870bf8.jpg: 640x640 8.8ms\n",
            "image 42/157 /content/drive/MyDrive/Accident Detection model/data/test/images/test10_8_jpg.rf.69caaa35b819fa7bfcaadd8f1adc4933.jpg: 640x640 8.8ms\n",
            "image 43/157 /content/drive/MyDrive/Accident Detection model/data/test/images/test11_10_jpg.rf.709dc5bf8af63e053243e641d3dcfc75.jpg: 640x640 8.8ms\n",
            "image 44/157 /content/drive/MyDrive/Accident Detection model/data/test/images/test11_11_jpg.rf.fd5ec45a88d60cb16c3c7caa4090ac14.jpg: 640x640 8.8ms\n",
            "image 45/157 /content/drive/MyDrive/Accident Detection model/data/test/images/test11_12_jpg.rf.e6d2ebf89eb28a92319096619a4420bd.jpg: 640x640 8.8ms\n",
            "image 46/157 /content/drive/MyDrive/Accident Detection model/data/test/images/test11_13_jpg.rf.5b3d3743a2f930e2e7f2c9aa4d099727.jpg: 640x640 8.7ms\n",
            "image 47/157 /content/drive/MyDrive/Accident Detection model/data/test/images/test11_14_jpg.rf.482dd40a3a63d62c4454d7655d0dbc90.jpg: 640x640 8.8ms\n",
            "image 48/157 /content/drive/MyDrive/Accident Detection model/data/test/images/test11_15_jpg.rf.152b04c4c1df866b8471700730d3f496.jpg: 640x640 1 Accident, 8.7ms\n",
            "image 49/157 /content/drive/MyDrive/Accident Detection model/data/test/images/test11_16_jpg.rf.f9d011236ccad66129797efd23e88cd9.jpg: 640x640 1 Accident, 8.7ms\n",
            "image 50/157 /content/drive/MyDrive/Accident Detection model/data/test/images/test11_1_jpg.rf.f3d75601693562e2c94ffb1a79a5b9fe.jpg: 640x640 8.4ms\n",
            "image 51/157 /content/drive/MyDrive/Accident Detection model/data/test/images/test11_2_jpg.rf.e9cf22765e58762c240a6928aa210769.jpg: 640x640 8.1ms\n",
            "image 52/157 /content/drive/MyDrive/Accident Detection model/data/test/images/test11_38_jpg.rf.a327ff1711a846696434bb8c2aa8ce13.jpg: 640x640 1 Accident, 8.1ms\n",
            "image 53/157 /content/drive/MyDrive/Accident Detection model/data/test/images/test11_39_jpg.rf.0ac94f74a3b73d730112884542c6ee19.jpg: 640x640 1 Accident, 8.1ms\n",
            "image 54/157 /content/drive/MyDrive/Accident Detection model/data/test/images/test11_3_jpg.rf.2b7c33089b4019a703d52481cd782d2e.jpg: 640x640 8.1ms\n",
            "image 55/157 /content/drive/MyDrive/Accident Detection model/data/test/images/test11_40_jpg.rf.99f5a30ea0f99cb8af70588a7159dbda.jpg: 640x640 1 Accident, 8.1ms\n",
            "image 56/157 /content/drive/MyDrive/Accident Detection model/data/test/images/test11_41_jpg.rf.d17d8e5780fa06a490f7c456bf39a588.jpg: 640x640 1 Accident, 8.0ms\n",
            "image 57/157 /content/drive/MyDrive/Accident Detection model/data/test/images/test11_42_jpg.rf.faebc1834cb0d66dcb2939ad4d4079f9.jpg: 640x640 1 Accident, 8.0ms\n",
            "image 58/157 /content/drive/MyDrive/Accident Detection model/data/test/images/test11_43_jpg.rf.dd71f2b330b5c9ab2c37f3eac2b097b0.jpg: 640x640 1 Accident, 8.0ms\n",
            "image 59/157 /content/drive/MyDrive/Accident Detection model/data/test/images/test11_44_jpg.rf.ec51a0c9726606e7246daa498639a29e.jpg: 640x640 1 Accident, 8.0ms\n",
            "image 60/157 /content/drive/MyDrive/Accident Detection model/data/test/images/test11_45_jpg.rf.fa6bc58594b0c4f1d607494fc9c7afb1.jpg: 640x640 1 Accident, 8.0ms\n",
            "image 61/157 /content/drive/MyDrive/Accident Detection model/data/test/images/test11_46_jpg.rf.181e153284592da21ecf8b48cda6a8b0.jpg: 640x640 1 Accident, 7.5ms\n",
            "image 62/157 /content/drive/MyDrive/Accident Detection model/data/test/images/test11_47_jpg.rf.9ec40ca4fbd529cd447138e22296b85a.jpg: 640x640 1 Accident, 7.5ms\n",
            "image 63/157 /content/drive/MyDrive/Accident Detection model/data/test/images/test11_48_jpg.rf.b38fe66c4851e27d32592742a387229a.jpg: 640x640 1 Accident, 7.6ms\n",
            "image 64/157 /content/drive/MyDrive/Accident Detection model/data/test/images/test11_49_jpg.rf.b577a53a5e477ae905e91d49d0af088e.jpg: 640x640 1 Accident, 7.5ms\n",
            "image 65/157 /content/drive/MyDrive/Accident Detection model/data/test/images/test11_4_jpg.rf.46b1118f99ad50b3da9895b754de2b35.jpg: 640x640 7.5ms\n",
            "image 66/157 /content/drive/MyDrive/Accident Detection model/data/test/images/test11_50_jpg.rf.3b52df8fed65ab4482dbab286c7c1016.jpg: 640x640 1 Accident, 7.5ms\n",
            "image 67/157 /content/drive/MyDrive/Accident Detection model/data/test/images/test11_56_jpg.rf.298873fc082bf047f7168e3f3ba2e2aa.jpg: 640x640 1 Accident, 7.5ms\n",
            "image 68/157 /content/drive/MyDrive/Accident Detection model/data/test/images/test11_57_jpg.rf.ef07acb0490feadeec463d9465f09ac8.jpg: 640x640 1 Accident, 7.5ms\n",
            "image 69/157 /content/drive/MyDrive/Accident Detection model/data/test/images/test11_58_jpg.rf.4c3030850781d30848e00b41c7a8bbb5.jpg: 640x640 1 Accident, 7.6ms\n",
            "image 70/157 /content/drive/MyDrive/Accident Detection model/data/test/images/test11_59_jpg.rf.4acab25d3f7f066b3ed2532ab36a0e23.jpg: 640x640 1 Accident, 7.7ms\n",
            "image 71/157 /content/drive/MyDrive/Accident Detection model/data/test/images/test11_5_jpg.rf.977f990e89eb97ffa529555d762b2bb3.jpg: 640x640 7.7ms\n",
            "image 72/157 /content/drive/MyDrive/Accident Detection model/data/test/images/test11_60_jpg.rf.39882f639eabbfcb8246a6746fee79ee.jpg: 640x640 1 Accident, 7.7ms\n",
            "image 73/157 /content/drive/MyDrive/Accident Detection model/data/test/images/test11_61_jpg.rf.429eae36e1c1caa800fd65cd79a6140d.jpg: 640x640 1 Accident, 7.8ms\n",
            "image 74/157 /content/drive/MyDrive/Accident Detection model/data/test/images/test11_6_jpg.rf.a353727f589a815a42d9007ba5cb3750.jpg: 640x640 7.6ms\n",
            "image 75/157 /content/drive/MyDrive/Accident Detection model/data/test/images/test11_7_jpg.rf.e6cc794d3cf6133850c4c101b8c0e4a3.jpg: 640x640 7.6ms\n",
            "image 76/157 /content/drive/MyDrive/Accident Detection model/data/test/images/test11_8_jpg.rf.2aef42e5bb17abd1bf9e88768109bed2.jpg: 640x640 7.6ms\n",
            "image 77/157 /content/drive/MyDrive/Accident Detection model/data/test/images/test11_9_jpg.rf.a8d67c060c5f5f7b3eb825ba5073bdc2.jpg: 640x640 7.6ms\n",
            "image 78/157 /content/drive/MyDrive/Accident Detection model/data/test/images/test12_10_jpg.rf.595e96b73386e992551428615278ca9f.jpg: 640x640 7.5ms\n",
            "image 79/157 /content/drive/MyDrive/Accident Detection model/data/test/images/test12_11_jpg.rf.0481de9bde28ca71db9fabac59f0cf39.jpg: 640x640 7.5ms\n",
            "image 80/157 /content/drive/MyDrive/Accident Detection model/data/test/images/test12_1_jpg.rf.290e67f31ec5ffbdb18648c688b32c55.jpg: 640x640 7.5ms\n",
            "image 81/157 /content/drive/MyDrive/Accident Detection model/data/test/images/test12_2_jpg.rf.8ec608b89c2525d484c08fbdb98ff6c6.jpg: 640x640 7.9ms\n",
            "image 82/157 /content/drive/MyDrive/Accident Detection model/data/test/images/test12_8_jpg.rf.9cc28960bf81edfcfb4a349603b415e6.jpg: 640x640 8.0ms\n",
            "image 83/157 /content/drive/MyDrive/Accident Detection model/data/test/images/test12_9_jpg.rf.b185d9bf4c9eccf35c2b098ad129bd4e.jpg: 640x640 7.7ms\n",
            "image 84/157 /content/drive/MyDrive/Accident Detection model/data/test/images/test13_26_jpg.rf.2665f5989adb03f7569a1032d15c9220.jpg: 640x640 1 Accident, 7.6ms\n",
            "image 85/157 /content/drive/MyDrive/Accident Detection model/data/test/images/test13_27_jpg.rf.f56473203279f543dc625be132682aff.jpg: 640x640 1 Accident, 7.6ms\n",
            "image 86/157 /content/drive/MyDrive/Accident Detection model/data/test/images/test13_28_jpg.rf.3771bc8e75385c5bb73aae82cd3f745d.jpg: 640x640 1 Accident, 7.8ms\n",
            "image 87/157 /content/drive/MyDrive/Accident Detection model/data/test/images/test13_29_jpg.rf.66df06a6feab5d4ddc37ad6507da85ba.jpg: 640x640 1 Accident, 7.8ms\n",
            "image 88/157 /content/drive/MyDrive/Accident Detection model/data/test/images/test13_2_jpg.rf.65194d3c4d0d1628fcc994c2a00e646c.jpg: 640x640 8.6ms\n",
            "image 89/157 /content/drive/MyDrive/Accident Detection model/data/test/images/test13_30_jpg.rf.3b5e60a57227f51390c9a48c92344acb.jpg: 640x640 1 Accident, 8.6ms\n",
            "image 90/157 /content/drive/MyDrive/Accident Detection model/data/test/images/test13_31_jpg.rf.f6554de03233828bd15c1197c35ada63.jpg: 640x640 1 Accident, 7.9ms\n",
            "image 91/157 /content/drive/MyDrive/Accident Detection model/data/test/images/test13_3_jpg.rf.1d58972f785d9e024695ad7aecaf6ceb.jpg: 640x640 9.7ms\n",
            "image 92/157 /content/drive/MyDrive/Accident Detection model/data/test/images/test13_4_jpg.rf.d3aa14c4dfc405326a436508674a3be0.jpg: 640x640 7.6ms\n",
            "image 93/157 /content/drive/MyDrive/Accident Detection model/data/test/images/test13_5_jpg.rf.2fb74e92fe829adbd3c228f777c71077.jpg: 640x640 9.5ms\n",
            "image 94/157 /content/drive/MyDrive/Accident Detection model/data/test/images/test13_6_jpg.rf.d8cf222f1e68d09422b79efaf7bee344.jpg: 640x640 9.5ms\n",
            "image 95/157 /content/drive/MyDrive/Accident Detection model/data/test/images/test13_7_jpg.rf.95660b942516301ae59f0f30e52fc96f.jpg: 640x640 10.0ms\n",
            "image 96/157 /content/drive/MyDrive/Accident Detection model/data/test/images/test13_8_jpg.rf.0b2cd98be7b43544655256cdf661cc03.jpg: 640x640 9.0ms\n",
            "image 97/157 /content/drive/MyDrive/Accident Detection model/data/test/images/test13_9_jpg.rf.cf9102f731d08c35faf3f63a6a398d26.jpg: 640x640 1 Accident, 7.8ms\n",
            "image 98/157 /content/drive/MyDrive/Accident Detection model/data/test/images/test14_1_jpg.rf.467775e5f482b94d6fbe9b7b2950ff14.jpg: 640x640 1 Accident, 7.8ms\n",
            "image 99/157 /content/drive/MyDrive/Accident Detection model/data/test/images/test14_22_jpg.rf.02016127fdb3b27a8f585ae94162d22b.jpg: 640x640 1 Accident, 10.1ms\n",
            "image 100/157 /content/drive/MyDrive/Accident Detection model/data/test/images/test14_23_jpg.rf.55e89eb098dcc7772d00bc70de712418.jpg: 640x640 1 Accident, 7.9ms\n",
            "image 101/157 /content/drive/MyDrive/Accident Detection model/data/test/images/test14_24_jpg.rf.97c541bb876d581f544ff042948656ae.jpg: 640x640 1 Accident, 8.4ms\n",
            "image 102/157 /content/drive/MyDrive/Accident Detection model/data/test/images/test14_25_jpg.rf.895670355bc65ee62339fb0a0f3ddbf6.jpg: 640x640 1 Accident, 7.6ms\n",
            "image 103/157 /content/drive/MyDrive/Accident Detection model/data/test/images/test14_2_jpg.rf.1a9a2cfb5e5459bbd06ae53e945bc6ce.jpg: 640x640 11.9ms\n",
            "image 104/157 /content/drive/MyDrive/Accident Detection model/data/test/images/test14_3_jpg.rf.bbceb2c028b8adf6637cd5e68111ec4f.jpg: 640x640 8.2ms\n",
            "image 105/157 /content/drive/MyDrive/Accident Detection model/data/test/images/test14_4_jpg.rf.a51a0d68b1b26db7c7032a24be553694.jpg: 640x640 11.4ms\n",
            "image 106/157 /content/drive/MyDrive/Accident Detection model/data/test/images/test14_5_jpg.rf.f7440c28f8a41c8efd456e184d1ded27.jpg: 640x640 1 Accident, 7.6ms\n",
            "image 107/157 /content/drive/MyDrive/Accident Detection model/data/test/images/test14_6_jpg.rf.57261b801996351d671df4a8c760e5d2.jpg: 640x640 7.7ms\n",
            "image 108/157 /content/drive/MyDrive/Accident Detection model/data/test/images/test14_7_jpg.rf.0154c3a808ef99b971f73addf9c161d9.jpg: 640x640 1 Accident, 9.8ms\n",
            "image 109/157 /content/drive/MyDrive/Accident Detection model/data/test/images/test14_8_jpg.rf.d0ec913b06a13cbc2202c7958ef0ca74.jpg: 640x640 1 Accident, 8.6ms\n",
            "image 110/157 /content/drive/MyDrive/Accident Detection model/data/test/images/test15_17_jpg.rf.0ceef0b6098d0a77415ceea30fcbc565.jpg: 640x640 1 Accident, 7.6ms\n",
            "image 111/157 /content/drive/MyDrive/Accident Detection model/data/test/images/test15_18_jpg.rf.1f5e18bc75c2f5317c0ac025c4b552b4.jpg: 640x640 1 Accident, 7.6ms\n",
            "image 112/157 /content/drive/MyDrive/Accident Detection model/data/test/images/test15_19_jpg.rf.840e51288b205fec5ad7d3221a7e8892.jpg: 640x640 1 Accident, 7.6ms\n",
            "image 113/157 /content/drive/MyDrive/Accident Detection model/data/test/images/test15_1_jpg.rf.e2318775097f7fc3da4ef1d38fa87a91.jpg: 640x640 7.6ms\n",
            "image 114/157 /content/drive/MyDrive/Accident Detection model/data/test/images/test15_20_jpg.rf.924a09978ca2b59d80f3ae55de242805.jpg: 640x640 1 Accident, 7.8ms\n",
            "image 115/157 /content/drive/MyDrive/Accident Detection model/data/test/images/test15_21_jpg.rf.f251b18f54fbf9078ca7e3f216f23420.jpg: 640x640 2 Accidents, 7.5ms\n",
            "image 116/157 /content/drive/MyDrive/Accident Detection model/data/test/images/test15_22_jpg.rf.5854de2847abebe0fd27cc76394f651b.jpg: 640x640 2 Accidents, 7.7ms\n",
            "image 117/157 /content/drive/MyDrive/Accident Detection model/data/test/images/test15_23_jpg.rf.fadb1d60261e072ac755f7bac4f73ac9.jpg: 640x640 2 Accidents, 7.5ms\n",
            "image 118/157 /content/drive/MyDrive/Accident Detection model/data/test/images/test15_24_jpg.rf.68faa9492675527a7e022fe5c895f2c6.jpg: 640x640 2 Accidents, 11.2ms\n",
            "image 119/157 /content/drive/MyDrive/Accident Detection model/data/test/images/test15_25_jpg.rf.9f4afd5113d42c8032ae24e066b0ac95.jpg: 640x640 2 Accidents, 7.9ms\n",
            "image 120/157 /content/drive/MyDrive/Accident Detection model/data/test/images/test15_26_jpg.rf.b636eb64d2a2ab23fcfdaa19472e7f25.jpg: 640x640 2 Accidents, 11.1ms\n",
            "image 121/157 /content/drive/MyDrive/Accident Detection model/data/test/images/test15_28_jpg.rf.2aa21c2d862f56be24e359c2f374e181.jpg: 640x640 2 Accidents, 7.6ms\n",
            "image 122/157 /content/drive/MyDrive/Accident Detection model/data/test/images/test15_29_jpg.rf.dfe1c5bf59b7168eb4ddb6464a1f2afd.jpg: 640x640 2 Accidents, 8.0ms\n",
            "image 123/157 /content/drive/MyDrive/Accident Detection model/data/test/images/test15_30_jpg.rf.e5d2eedcf0c9ee390c583beea6a1ff51.jpg: 640x640 2 Accidents, 7.5ms\n",
            "image 124/157 /content/drive/MyDrive/Accident Detection model/data/test/images/test15_31_jpg.rf.01612eabf8bb23f659233410ff5099c0.jpg: 640x640 3 Accidents, 7.9ms\n",
            "image 125/157 /content/drive/MyDrive/Accident Detection model/data/test/images/test16_10_jpg.rf.44c2cd60fc1aa6841d966605aa349a56.jpg: 640x640 11.3ms\n",
            "image 126/157 /content/drive/MyDrive/Accident Detection model/data/test/images/test16_11_jpg.rf.bc37395ae2f0b5323049ad89cb9289e2.jpg: 640x640 11.9ms\n",
            "image 127/157 /content/drive/MyDrive/Accident Detection model/data/test/images/test16_12_jpg.rf.2cbe8ce56d7c5bf432956e1d99d08932.jpg: 640x640 8.5ms\n",
            "image 128/157 /content/drive/MyDrive/Accident Detection model/data/test/images/test16_13_jpg.rf.782735c88123a4c0e3c439029333a641.jpg: 640x640 8.0ms\n",
            "image 129/157 /content/drive/MyDrive/Accident Detection model/data/test/images/test16_14_jpg.rf.e98ff1bc47765b87475a36f033745c8b.jpg: 640x640 8.4ms\n",
            "image 130/157 /content/drive/MyDrive/Accident Detection model/data/test/images/test16_15_jpg.rf.487bb2b62798595fb0cac2eda981898a.jpg: 640x640 7.8ms\n",
            "image 131/157 /content/drive/MyDrive/Accident Detection model/data/test/images/test16_16_jpg.rf.904a32c8bc8b59b3d7c9c48a3b85ee2e.jpg: 640x640 7.7ms\n",
            "image 132/157 /content/drive/MyDrive/Accident Detection model/data/test/images/test16_17_jpg.rf.16549350ade6b4f07a1b36667e7f6d28.jpg: 640x640 7.5ms\n",
            "image 133/157 /content/drive/MyDrive/Accident Detection model/data/test/images/test16_18_jpg.rf.50346db360a11d3ddd1d7f85e1028bae.jpg: 640x640 7.6ms\n",
            "image 134/157 /content/drive/MyDrive/Accident Detection model/data/test/images/test16_1_jpg.rf.12ccad2e9bd4a31186708363287c86a5.jpg: 640x640 1 Accident, 11.1ms\n",
            "image 135/157 /content/drive/MyDrive/Accident Detection model/data/test/images/test16_2_jpg.rf.7a6019e14144ff1b81cc228e454eab6c.jpg: 640x640 1 Accident, 7.6ms\n",
            "image 136/157 /content/drive/MyDrive/Accident Detection model/data/test/images/test16_3_jpg.rf.81f0510b1103c621e08ae2d09449ac8a.jpg: 640x640 1 Accident, 7.6ms\n",
            "image 137/157 /content/drive/MyDrive/Accident Detection model/data/test/images/test16_4_jpg.rf.08d12120a25dd05f0ed76a95ee18a9e4.jpg: 640x640 1 Accident, 7.7ms\n",
            "image 138/157 /content/drive/MyDrive/Accident Detection model/data/test/images/test16_5_jpg.rf.b3e7f55da57447895abbe4da4a4d514d.jpg: 640x640 1 Accident, 7.6ms\n",
            "image 139/157 /content/drive/MyDrive/Accident Detection model/data/test/images/test16_6_jpg.rf.23e276a56e5eed75361916d2afde645f.jpg: 640x640 7.8ms\n",
            "image 140/157 /content/drive/MyDrive/Accident Detection model/data/test/images/test16_7_jpg.rf.e8a7c7ed01279378385873988e67d0c4.jpg: 640x640 7.5ms\n",
            "image 141/157 /content/drive/MyDrive/Accident Detection model/data/test/images/test16_8_jpg.rf.71c5b71edc746cbcb2311e4b9cbe7f00.jpg: 640x640 7.5ms\n",
            "image 142/157 /content/drive/MyDrive/Accident Detection model/data/test/images/test17_1_jpg.rf.06c83a3f8f04ade8343d86cd85ef7681.jpg: 640x640 8.2ms\n",
            "image 143/157 /content/drive/MyDrive/Accident Detection model/data/test/images/test18_13_jpg.rf.951fac25793f169165a174acb5e51473.jpg: 640x640 8.2ms\n",
            "image 144/157 /content/drive/MyDrive/Accident Detection model/data/test/images/test1_11_jpg.rf.a8148c15ad1d6668dab0f5a06320451e.jpg: 640x640 8.2ms\n",
            "image 145/157 /content/drive/MyDrive/Accident Detection model/data/test/images/test1_12_jpg.rf.b84ee5beb8025d0ba19362a07e66b987.jpg: 640x640 8.2ms\n",
            "image 146/157 /content/drive/MyDrive/Accident Detection model/data/test/images/test1_4_jpg.rf.808144fe00104728a45b52a1ec0c325b.jpg: 640x640 8.2ms\n",
            "image 147/157 /content/drive/MyDrive/Accident Detection model/data/test/images/test1_7_jpg.rf.127fca67140359be57bba6ed3e3a9fcf.jpg: 640x640 8.2ms\n",
            "image 148/157 /content/drive/MyDrive/Accident Detection model/data/test/images/test1_8_jpg.rf.cbed179d7eaa80f8dc9fd99a5a68cc2f.jpg: 640x640 8.2ms\n",
            "image 149/157 /content/drive/MyDrive/Accident Detection model/data/test/images/test1_9_jpg.rf.5a402754e81959648fcadf87718d4f50.jpg: 640x640 8.2ms\n",
            "image 150/157 /content/drive/MyDrive/Accident Detection model/data/test/images/test20_11_jpg.rf.4c2e51a1a229cd8d1eff898c7ef3aada.jpg: 640x640 8.2ms\n",
            "image 151/157 /content/drive/MyDrive/Accident Detection model/data/test/images/test20_12_jpg.rf.5a6d1faffcac3baf8defb69c1c8afa33.jpg: 640x640 8.2ms\n",
            "image 152/157 /content/drive/MyDrive/Accident Detection model/data/test/images/test20_14_jpg.rf.1979e8c9312b05584bfc7f621ece4217.jpg: 640x640 8.3ms\n",
            "image 153/157 /content/drive/MyDrive/Accident Detection model/data/test/images/test20_1_jpg.rf.6ba33cd73ba2004b536f0c75b1a741ec.jpg: 640x640 8.3ms\n",
            "image 154/157 /content/drive/MyDrive/Accident Detection model/data/test/images/test20_2_jpg.rf.7747a4bd0ed4ebd13512006a1d0914a2.jpg: 640x640 8.2ms\n",
            "image 155/157 /content/drive/MyDrive/Accident Detection model/data/test/images/test20_4_jpg.rf.39071409c8173a628a325ac53b5e23e4.jpg: 640x640 8.3ms\n",
            "image 156/157 /content/drive/MyDrive/Accident Detection model/data/test/images/test20_5_jpg.rf.9e52fd538ef5b320fbad59916145458c.jpg: 640x640 8.1ms\n",
            "image 157/157 /content/drive/MyDrive/Accident Detection model/data/test/images/test20_7_jpg.rf.8e5181d8842c81404d7f03fcd6c7ac25.jpg: 640x640 12.9ms\n",
            "Speed: 0.5ms pre-process, 9.5ms inference, 1.7ms postprocess per image at shape (1, 3, 640, 640)\n"
          ]
        }
      ]
    },
    {
      "cell_type": "code",
      "source": [
        "!yolo task=detect mode=predict model=runs/detect/train/weights/best.pt source=\"/content/drive/MyDrive/Accident Detection model/data/testing1.jpg\""
      ],
      "metadata": {
        "colab": {
          "base_uri": "https://localhost:8080/"
        },
        "id": "JbeWz4MlL7qB",
        "outputId": "55a1cf3b-61a2-4fa3-c1cc-5d81866824a7"
      },
      "execution_count": null,
      "outputs": [
        {
          "output_type": "stream",
          "name": "stdout",
          "text": [
            "2023-04-21 09:23:50.634575: I tensorflow/core/platform/cpu_feature_guard.cc:182] This TensorFlow binary is optimized to use available CPU instructions in performance-critical operations.\n",
            "To enable the following instructions: AVX2 AVX512F FMA, in other operations, rebuild TensorFlow with the appropriate compiler flags.\n",
            "2023-04-21 09:23:51.465151: W tensorflow/compiler/tf2tensorrt/utils/py_utils.cc:38] TF-TRT Warning: Could not find TensorRT\n",
            "Ultralytics YOLOv8.0.20 🚀 Python-3.9.16 torch-2.0.0+cu118 CUDA:0 (Tesla T4, 15102MiB)\n",
            "Model summary (fused): 168 layers, 11125971 parameters, 0 gradients, 28.4 GFLOPs\n",
            "image 1/1 /content/drive/MyDrive/Accident Detection model/data/testing1.jpg: 640x640 1 Accident, 16.3ms\n",
            "Speed: 0.9ms pre-process, 16.3ms inference, 114.2ms postprocess per image at shape (1, 3, 640, 640)\n"
          ]
        }
      ]
    },
    {
      "cell_type": "code",
      "source": [
        "!yolo task=detect mode=predict model=runs/detect/train/weights/best.pt source=\"/content/drive/MyDrive/Accident Detection model/data/testing1.jpg\" -thresh 0.01 | grep \"ACCIDENT\" && echo \"Accident is present\" || echo \"No accident detected\"\n"
      ],
      "metadata": {
        "colab": {
          "base_uri": "https://localhost:8080/"
        },
        "id": "pTHGkHaLQqp8",
        "outputId": "cc740bb6-5b4f-4fe0-ba8c-127f05980019"
      },
      "execution_count": null,
      "outputs": [
        {
          "output_type": "stream",
          "name": "stdout",
          "text": [
            "Traceback (most recent call last):\n",
            "  File \"/usr/local/bin/yolo\", line 8, in <module>\n",
            "    sys.exit(entrypoint())\n",
            "  File \"/usr/local/lib/python3.9/dist-packages/ultralytics/yolo/cfg/__init__.py\", line 212, in entrypoint\n",
            "    raise argument_error(a)\n",
            "SyntaxError: '-thresh' is not a valid YOLO argument.\n",
            "\n",
            "    YOLOv8 'yolo' CLI commands use the following syntax:\n",
            "\n",
            "        yolo TASK MODE ARGS\n",
            "\n",
            "        Where   TASK (optional) is one of [detect, segment, classify]\n",
            "                MODE (required) is one of [train, val, predict, export]\n",
            "                ARGS (optional) are any number of custom 'arg=value' pairs like 'imgsz=320' that override defaults.\n",
            "                    See all ARGS at https://docs.ultralytics.com/cfg or with 'yolo cfg'\n",
            "\n",
            "    1. Train a detection model for 10 epochs with an initial learning_rate of 0.01\n",
            "        yolo detect train data=coco128.yaml model=yolov8n.pt epochs=10 lr0=0.01\n",
            "\n",
            "    2. Predict a YouTube video using a pretrained segmentation model at image size 320:\n",
            "        yolo segment predict model=yolov8n-seg.pt source='https://youtu.be/Zgi9g1ksQHc' imgsz=320\n",
            "\n",
            "    3. Val a pretrained detection model at batch-size 1 and image size 640:\n",
            "        yolo detect val model=yolov8n.pt data=coco128.yaml batch=1 imgsz=640\n",
            "\n",
            "    4. Export a YOLOv8n classification model to ONNX format at image size 224 by 128 (no TASK required)\n",
            "        yolo export model=yolov8n-cls.pt format=onnx imgsz=224,128\n",
            "\n",
            "    5. Run special commands:\n",
            "        yolo help\n",
            "        yolo checks\n",
            "        yolo version\n",
            "        yolo settings\n",
            "        yolo copy-cfg\n",
            "        yolo cfg\n",
            "\n",
            "    Docs: https://docs.ultralytics.com/cli\n",
            "    Community: https://community.ultralytics.com\n",
            "    GitHub: https://github.com/ultralytics/ultralytics\n",
            "    \n",
            "No accident detected\n"
          ]
        }
      ]
    },
    {
      "cell_type": "code",
      "source": [
        "import cv2\n",
        "\n",
        "import torch\n",
        "import cv2\n",
        "\n",
        "def detect_objects(image, model_path, conf_thres=0.4):\n",
        "    # Load the model\n",
        "    net = cv2.dnn.readNet(model_path)\n",
        "\n",
        "    # Get the names of the output layers\n",
        "    layer_names = net.getLayerNames()\n",
        "    output_layers = [layer_names[i[0] - 1] for i in net.getUnconnectedOutLayers()]\n",
        "\n",
        "    # Resize the image and normalize pixel values to [0, 1]\n",
        "    blob = cv2.dnn.blobFromImage(image, 1/255, (416, 416), swapRB=True, crop=False)\n",
        "\n",
        "    # Set the input of the network\n",
        "    net.setInput(blob)\n",
        "\n",
        "    # Forward pass through the network\n",
        "    outputs = net.forward(output_layers)\n",
        "\n",
        "    # Parse the outputs and get the class IDs, confidences and bounding boxes\n",
        "    class_ids, confidences, boxes = [], [], []\n",
        "    for output in outputs:\n",
        "        for detection in output:\n",
        "            scores = detection[5:]\n",
        "            class_id = np.argmax(scores)\n",
        "            confidence = scores[class_id]\n",
        "            if confidence > conf_thres:\n",
        "                center_x, center_y, width, height = detection[:4] * np.array([image.shape[1], image.shape[0], image.shape[1], image.shape[0]])\n",
        "                x, y = int(center_x - width/2), int(center_y - height/2)\n",
        "                w, h = int(width), int(height)\n",
        "                class_ids.append(class_id)\n",
        "                confidences.append(float(confidence))\n",
        "                boxes.append([x, y, w, h])\n",
        "\n",
        "    # Return the class IDs, confidences and bounding boxes\n",
        "    return class_ids, confidences, boxes\n",
        "\n",
        "\n",
        "# Load the output image\n",
        "output_image = cv2.imread(\"/content/drive/MyDrive/Accident Detection model/runs/detect/predict2/testing1.jpg\")\n",
        "\n",
        "# Set the path to your YOLO model\n",
        "model_path = \"/content/drive/MyDrive/Accident Detection model/runs/detect/train/weights/best.pt\"\n",
        "\n",
        "# Get the number of objects detected\n",
        "num_objects = len(detect_objects(output_image, model_path))\n",
        "\n",
        "# Set a threshold for the number of objects\n",
        "if num_objects > 0:\n",
        "    message = \"Accident detected!\"\n",
        "else:\n",
        "    message = \"No accidents detected.\"\n"
      ],
      "metadata": {
        "colab": {
          "base_uri": "https://localhost:8080/",
          "height": 374
        },
        "id": "g8ugQqunQ8m7",
        "outputId": "1aa393b3-c509-4f85-8b65-9111cc470a66"
      },
      "execution_count": null,
      "outputs": [
        {
          "output_type": "error",
          "ename": "error",
          "evalue": "ignored",
          "traceback": [
            "\u001b[0;31m---------------------------------------------------------------------------\u001b[0m",
            "\u001b[0;31merror\u001b[0m                                     Traceback (most recent call last)",
            "\u001b[0;32m<ipython-input-13-474ad9d4c1da>\u001b[0m in \u001b[0;36m<cell line: 49>\u001b[0;34m()\u001b[0m\n\u001b[1;32m     47\u001b[0m \u001b[0;34m\u001b[0m\u001b[0m\n\u001b[1;32m     48\u001b[0m \u001b[0;31m# Get the number of objects detected\u001b[0m\u001b[0;34m\u001b[0m\u001b[0;34m\u001b[0m\u001b[0m\n\u001b[0;32m---> 49\u001b[0;31m \u001b[0mnum_objects\u001b[0m \u001b[0;34m=\u001b[0m \u001b[0mlen\u001b[0m\u001b[0;34m(\u001b[0m\u001b[0mdetect_objects\u001b[0m\u001b[0;34m(\u001b[0m\u001b[0moutput_image\u001b[0m\u001b[0;34m,\u001b[0m \u001b[0mmodel_path\u001b[0m\u001b[0;34m)\u001b[0m\u001b[0;34m)\u001b[0m\u001b[0;34m\u001b[0m\u001b[0;34m\u001b[0m\u001b[0m\n\u001b[0m\u001b[1;32m     50\u001b[0m \u001b[0;34m\u001b[0m\u001b[0m\n\u001b[1;32m     51\u001b[0m \u001b[0;31m# Set a threshold for the number of objects\u001b[0m\u001b[0;34m\u001b[0m\u001b[0;34m\u001b[0m\u001b[0m\n",
            "\u001b[0;32m<ipython-input-13-474ad9d4c1da>\u001b[0m in \u001b[0;36mdetect_objects\u001b[0;34m(image, model_path, conf_thres)\u001b[0m\n\u001b[1;32m      6\u001b[0m \u001b[0;32mdef\u001b[0m \u001b[0mdetect_objects\u001b[0m\u001b[0;34m(\u001b[0m\u001b[0mimage\u001b[0m\u001b[0;34m,\u001b[0m \u001b[0mmodel_path\u001b[0m\u001b[0;34m,\u001b[0m \u001b[0mconf_thres\u001b[0m\u001b[0;34m=\u001b[0m\u001b[0;36m0.4\u001b[0m\u001b[0;34m)\u001b[0m\u001b[0;34m:\u001b[0m\u001b[0;34m\u001b[0m\u001b[0;34m\u001b[0m\u001b[0m\n\u001b[1;32m      7\u001b[0m     \u001b[0;31m# Load the model\u001b[0m\u001b[0;34m\u001b[0m\u001b[0;34m\u001b[0m\u001b[0m\n\u001b[0;32m----> 8\u001b[0;31m     \u001b[0mnet\u001b[0m \u001b[0;34m=\u001b[0m \u001b[0mcv2\u001b[0m\u001b[0;34m.\u001b[0m\u001b[0mdnn\u001b[0m\u001b[0;34m.\u001b[0m\u001b[0mreadNet\u001b[0m\u001b[0;34m(\u001b[0m\u001b[0mmodel_path\u001b[0m\u001b[0;34m)\u001b[0m\u001b[0;34m\u001b[0m\u001b[0;34m\u001b[0m\u001b[0m\n\u001b[0m\u001b[1;32m      9\u001b[0m \u001b[0;34m\u001b[0m\u001b[0m\n\u001b[1;32m     10\u001b[0m     \u001b[0;31m# Get the names of the output layers\u001b[0m\u001b[0;34m\u001b[0m\u001b[0;34m\u001b[0m\u001b[0m\n",
            "\u001b[0;31merror\u001b[0m: OpenCV(4.7.0) /io/opencv/modules/dnn/src/dnn_read.cpp:52: error: (-2:Unspecified error) Cannot determine an origin framework of files: /content/drive/MyDrive/Accident Detection model/runs/detect/train/weights/best.pt in function 'readNet'\n"
          ]
        }
      ]
    },
    {
      "cell_type": "code",
      "source": [],
      "metadata": {
        "id": "RkfHXDnheU3j"
      },
      "execution_count": null,
      "outputs": []
    }
  ]
}